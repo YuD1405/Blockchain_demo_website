{
 "cells": [
  {
   "cell_type": "code",
   "execution_count": 1,
   "metadata": {},
   "outputs": [],
   "source": [
    "from blockchain_core.blockchain import Blockchain\n",
    "from blockchain_core.PoW import mine_block\n",
    "from blockchain_core.transaction import Transaction"
   ]
  },
  {
   "cell_type": "code",
   "execution_count": 2,
   "metadata": {},
   "outputs": [],
   "source": [
    "blockchain = Blockchain()"
   ]
  },
  {
   "cell_type": "code",
   "execution_count": 3,
   "metadata": {},
   "outputs": [],
   "source": [
    "#Block 1\n",
    "tx1 = Transaction(\"Alice\", \"Bob\", 50)\n",
    "tx2 = Transaction(\"Bob\", \"Charlie\", 30)\n",
    "tx3 = Transaction(\"Charlie\", \"David\", 20)\n",
    "\n",
    "#Block 2\n",
    "tx4 = Transaction(\"David\", \"Eve\", 10)\n",
    "tx5 = Transaction(\"Eve\", \"Frank\", 40)\n",
    "tx6 = Transaction(\"Frank\", \"Grace\", 25)\n",
    "\n",
    "#Block 3\n",
    "tx7 = Transaction(\"Grace\", \"Hannah\", 15)\n",
    "tx8 = Transaction(\"Hannah\", \"Ivan\", 35)\n",
    "tx9 = Transaction(\"Ivan\", \"Jack\", 45)"
   ]
  },
  {
   "cell_type": "code",
   "execution_count": 4,
   "metadata": {},
   "outputs": [],
   "source": [
    "transactions_1 = [tx1, tx2, tx3]\n",
    "transactions_2 = [tx4, tx5, tx6]\n",
    "transactions_3 = [tx7, tx8, tx9]\n",
    "transactions = [transactions_1, transactions_2, transactions_3]"
   ]
  },
  {
   "cell_type": "code",
   "execution_count": 5,
   "metadata": {},
   "outputs": [
    {
     "name": "stdout",
     "output_type": "stream",
     "text": [
      "\n",
      "========== Blockchain ==========\n",
      "Block Index: 0\n",
      "Previous Hash: 0\n",
      "Merkle Root: \n",
      "Nonce: 0\n",
      "Hash: d16819ad140eec6e4e1939ca746ae01f84f22620638ca021aaa0da3b09e6489e\n",
      "\n",
      "--- Transactions ---\n",
      "-------------------------------------------------\n",
      "Block Index: 1\n",
      "Previous Hash: d16819ad140eec6e4e1939ca746ae01f84f22620638ca021aaa0da3b09e6489e\n",
      "Merkle Root: c25d5e9a8046bbd62d86df4cac9aee30eceae26572587235a659f9c9a254e61b\n",
      "Nonce: 49771\n",
      "Hash: 0000307458c79ee8e3da38904ab9a735d3c5c36d02598d5428f8652d48879f58\n",
      "\n",
      "--- Transactions ---\n",
      "Sender: Alice\n",
      "Render: Bob\n",
      "Amount: 50\n",
      "------------------------------\n",
      "Sender: Bob\n",
      "Render: Charlie\n",
      "Amount: 30\n",
      "------------------------------\n",
      "Sender: Charlie\n",
      "Render: David\n",
      "Amount: 20\n",
      "------------------------------\n",
      "-------------------------------------------------\n",
      "Block Index: 2\n",
      "Previous Hash: 0000307458c79ee8e3da38904ab9a735d3c5c36d02598d5428f8652d48879f58\n",
      "Merkle Root: d6a7c0bafff61697db793378e56432ec688045579567eca15aa816b85d8d7150\n",
      "Nonce: 24070\n",
      "Hash: 0000c4a5e2abc842c7e3537926a31f770166554779a8bd9cc1ab225d65785701\n",
      "\n",
      "--- Transactions ---\n",
      "Sender: David\n",
      "Render: Eve\n",
      "Amount: 10\n",
      "------------------------------\n",
      "Sender: Eve\n",
      "Render: Frank\n",
      "Amount: 40\n",
      "------------------------------\n",
      "Sender: Frank\n",
      "Render: Grace\n",
      "Amount: 25\n",
      "------------------------------\n",
      "-------------------------------------------------\n",
      "Block Index: 3\n",
      "Previous Hash: 0000c4a5e2abc842c7e3537926a31f770166554779a8bd9cc1ab225d65785701\n",
      "Merkle Root: caabcef9068c94d74063bcd04979743e3c1152e9708cdd66c62173eba1e55299\n",
      "Nonce: 150825\n",
      "Hash: 0000fcbf703be8c55633a947e321b48cd36cfe90f99be885a28e5f1e2dbf6cc5\n",
      "\n",
      "--- Transactions ---\n",
      "Sender: Grace\n",
      "Render: Hannah\n",
      "Amount: 15\n",
      "------------------------------\n",
      "Sender: Hannah\n",
      "Render: Ivan\n",
      "Amount: 35\n",
      "------------------------------\n",
      "Sender: Ivan\n",
      "Render: Jack\n",
      "Amount: 45\n",
      "------------------------------\n",
      "-------------------------------------------------\n"
     ]
    }
   ],
   "source": [
    "for i in range(3):\n",
    "    new_block = mine_block(blockchain.chain[-1], transactions[i])\n",
    "    blockchain.add_block(new_block)\n",
    "\n",
    "blockchain.print_blockchain()"
   ]
  }
 ],
 "metadata": {
  "kernelspec": {
   "display_name": "crypto",
   "language": "python",
   "name": "python3"
  },
  "language_info": {
   "codemirror_mode": {
    "name": "ipython",
    "version": 3
   },
   "file_extension": ".py",
   "mimetype": "text/x-python",
   "name": "python",
   "nbconvert_exporter": "python",
   "pygments_lexer": "ipython3",
   "version": "3.13.1"
  }
 },
 "nbformat": 4,
 "nbformat_minor": 2
}
